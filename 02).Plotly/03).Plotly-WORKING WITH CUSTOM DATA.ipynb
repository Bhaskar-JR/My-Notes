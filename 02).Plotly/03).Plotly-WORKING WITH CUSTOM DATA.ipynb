{
 "cells": [
  {
   "cell_type": "markdown",
   "metadata": {},
   "source": [
    "# Working With Custom Data"
   ]
  },
  {
   "cell_type": "code",
   "execution_count": 1,
   "metadata": {},
   "outputs": [],
   "source": [
    "#import\n",
    "import plotly\n",
    "from plotly.offline import download_plotlyjs, init_notebook_mode, plot, iplot\n",
    "import plotly.graph_objs as go\n",
    "import numpy as np\n",
    "import pandas as pd"
   ]
  },
  {
   "cell_type": "code",
   "execution_count": 2,
   "metadata": {},
   "outputs": [
    {
     "data": {
      "text/html": [
       "        <script type=\"text/javascript\">\n",
       "        window.PlotlyConfig = {MathJaxConfig: 'local'};\n",
       "        if (window.MathJax) {MathJax.Hub.Config({SVG: {font: \"STIX-Web\"}});}\n",
       "        if (typeof require !== 'undefined') {\n",
       "        require.undef(\"plotly\");\n",
       "        requirejs.config({\n",
       "            paths: {\n",
       "                'plotly': ['https://cdn.plot.ly/plotly-latest.min']\n",
       "            }\n",
       "        });\n",
       "        require(['plotly'], function(Plotly) {\n",
       "            window._Plotly = Plotly;\n",
       "        });\n",
       "        }\n",
       "        </script>\n",
       "        "
      ]
     },
     "metadata": {},
     "output_type": "display_data"
    }
   ],
   "source": [
    "#Jupyter setup\n",
    "init_notebook_mode(connected=True)"
   ]
  },
  {
   "cell_type": "code",
   "execution_count": 6,
   "metadata": {},
   "outputs": [],
   "source": [
    "pubg = pd.read_csv('PUBG.csv')\n",
    "#pubg.head(10)\n",
    "df_pubg = pubg.apply(pd.to_numeric, errors='ignore')\n",
    "df_new_pubg = df_pubg.head(10)"
   ]
  },
  {
   "cell_type": "code",
   "execution_count": 7,
   "metadata": {},
   "outputs": [
    {
     "data": {
      "application/vnd.plotly.v1+json": {
       "config": {
        "linkText": "Export to plot.ly",
        "plotlyServerURL": "https://plot.ly",
        "showLink": false
       },
       "data": [
        {
         "name": "Rounds Won",
         "type": "scatter",
         "uid": "9d5c6995-d17c-4a5b-91de-52a363e286f1",
         "x": [
          17,
          33,
          5,
          8,
          6,
          16,
          142,
          19,
          44,
          8
         ],
         "y": [
          3,
          6,
          0,
          4,
          2,
          5,
          12,
          5,
          6,
          2
         ]
        }
       ],
       "layout": {
        "plot_bgcolor": "rgb(230, 230,230)",
        "showlegend": true,
        "title": {
         "text": "PUBG Wins vs Rounds Played"
        }
       }
      },
      "text/html": [
       "<div>\n",
       "        \n",
       "        \n",
       "            <div id=\"9fe232d7-bbd8-4a28-a948-785114220c94\" class=\"plotly-graph-div\" style=\"height:525px; width:100%;\"></div>\n",
       "            <script type=\"text/javascript\">\n",
       "                require([\"plotly\"], function(Plotly) {\n",
       "                    window.PLOTLYENV=window.PLOTLYENV || {};\n",
       "                    window.PLOTLYENV.BASE_URL='https://plot.ly';\n",
       "                    \n",
       "                if (document.getElementById(\"9fe232d7-bbd8-4a28-a948-785114220c94\")) {\n",
       "                    Plotly.newPlot(\n",
       "                        '9fe232d7-bbd8-4a28-a948-785114220c94',\n",
       "                        [{\"name\": \"Rounds Won\", \"type\": \"scatter\", \"uid\": \"9d5c6995-d17c-4a5b-91de-52a363e286f1\", \"x\": [17, 33, 5, 8, 6, 16, 142, 19, 44, 8], \"y\": [3, 6, 0, 4, 2, 5, 12, 5, 6, 2]}],\n",
       "                        {\"plot_bgcolor\": \"rgb(230, 230,230)\", \"showlegend\": true, \"title\": {\"text\": \"PUBG Wins vs Rounds Played\"}},\n",
       "                        {\"showLink\": false, \"linkText\": \"Export to plot.ly\", \"plotlyServerURL\": \"https://plot.ly\", \"responsive\": true}\n",
       "                    ).then(function(){\n",
       "                            \n",
       "var gd = document.getElementById('9fe232d7-bbd8-4a28-a948-785114220c94');\n",
       "var x = new MutationObserver(function (mutations, observer) {{\n",
       "        var display = window.getComputedStyle(gd).display;\n",
       "        if (!display || display === 'none') {{\n",
       "            console.log([gd, 'removed!']);\n",
       "            Plotly.purge(gd);\n",
       "            observer.disconnect();\n",
       "        }}\n",
       "}});\n",
       "\n",
       "// Listen for the removal of the full notebook cells\n",
       "var notebookContainer = gd.closest('#notebook-container');\n",
       "if (notebookContainer) {{\n",
       "    x.observe(notebookContainer, {childList: true});\n",
       "}}\n",
       "\n",
       "// Listen for the clearing of the current output cell\n",
       "var outputEl = gd.closest('.output');\n",
       "if (outputEl) {{\n",
       "    x.observe(outputEl, {childList: true});\n",
       "}}\n",
       "\n",
       "                        })\n",
       "                };\n",
       "                });\n",
       "            </script>\n",
       "        </div>"
      ]
     },
     "metadata": {},
     "output_type": "display_data"
    }
   ],
   "source": [
    "trace = go.Scatter(x = df_new_pubg['solo_RoundsPlayed'], y= df_new_pubg['solo_Wins'],\n",
    "                  name ='Rounds Won')\n",
    "layout = go.Layout(title='PUBG Wins vs Rounds Played',\n",
    "                   plot_bgcolor='rgb(230, 230,230)', \n",
    "                   showlegend=True)\n",
    "fig = go.Figure(data=[trace], layout=layout)\n",
    "\n",
    "iplot(fig, filename='test')"
   ]
  },
  {
   "cell_type": "code",
   "execution_count": 8,
   "metadata": {},
   "outputs": [],
   "source": [
    "df_bar_pubg = df_pubg.head(30)"
   ]
  },
  {
   "cell_type": "code",
   "execution_count": 9,
   "metadata": {},
   "outputs": [],
   "source": [
    "trace1 = go.Bar( \n",
    "        x = df_bar_pubg['player_name'],\n",
    "        y = df_bar_pubg['solo_RoundsPlayed'],\n",
    "        name= 'Rounds Played')\n",
    "\n",
    "trace2 = go.Bar( \n",
    "        x = df_bar_pubg['player_name'],\n",
    "        y = df_bar_pubg['solo_Wins'],\n",
    "        name= 'Wins')"
   ]
  },
  {
   "cell_type": "code",
   "execution_count": 10,
   "metadata": {},
   "outputs": [
    {
     "data": {
      "application/vnd.plotly.v1+json": {
       "config": {
        "linkText": "Export to plot.ly",
        "plotlyServerURL": "https://plot.ly",
        "showLink": false
       },
       "data": [
        {
         "name": "Rounds Played",
         "type": "bar",
         "uid": "ffd3be8e-434c-4d8a-b8f9-f57bfe1f7f6b",
         "x": [
          "BreakNeck",
          "Blackwalk",
          "mercedes_benz",
          "DORA",
          "n2tstar",
          "coldoxygen",
          "Giken",
          "KoreaNo1",
          "undor",
          "Fordune",
          "PandaTV-Tongk",
          "Benny-_-",
          "PanDaTV_Karl",
          "homeboye",
          "YUPPIEE",
          "Doomhammer",
          "DinghisKhan",
          "YoonRoot",
          "3N1GmA",
          "synthtail",
          "SevenWolf",
          "FZTEAMLDS",
          "1125",
          "BombBurst",
          "SILPHTV",
          "SexyPIG",
          "TOP_94",
          "zeggi",
          "baoli6666666",
          "Toadoo1"
         ],
         "y": [
          17,
          33,
          5,
          8,
          6,
          16,
          142,
          19,
          44,
          8,
          116,
          335,
          87,
          72,
          23,
          3,
          165,
          65,
          16,
          45,
          55,
          45,
          9,
          14,
          277,
          265,
          77,
          52,
          56,
          22
         ]
        },
        {
         "name": "Wins",
         "type": "bar",
         "uid": "4562e625-0141-4ff0-92ed-7fd13329bc04",
         "x": [
          "BreakNeck",
          "Blackwalk",
          "mercedes_benz",
          "DORA",
          "n2tstar",
          "coldoxygen",
          "Giken",
          "KoreaNo1",
          "undor",
          "Fordune",
          "PandaTV-Tongk",
          "Benny-_-",
          "PanDaTV_Karl",
          "homeboye",
          "YUPPIEE",
          "Doomhammer",
          "DinghisKhan",
          "YoonRoot",
          "3N1GmA",
          "synthtail",
          "SevenWolf",
          "FZTEAMLDS",
          "1125",
          "BombBurst",
          "SILPHTV",
          "SexyPIG",
          "TOP_94",
          "zeggi",
          "baoli6666666",
          "Toadoo1"
         ],
         "y": [
          3,
          6,
          0,
          4,
          2,
          5,
          12,
          5,
          6,
          2,
          7,
          4,
          9,
          4,
          3,
          1,
          38,
          12,
          6,
          2,
          7,
          4,
          3,
          2,
          48,
          63,
          4,
          3,
          3,
          2
         ]
        }
       ],
       "layout": {
        "barmode": "group"
       }
      },
      "text/html": [
       "<div>\n",
       "        \n",
       "        \n",
       "            <div id=\"74826898-7354-4efe-9071-e1565b9c7658\" class=\"plotly-graph-div\" style=\"height:525px; width:100%;\"></div>\n",
       "            <script type=\"text/javascript\">\n",
       "                require([\"plotly\"], function(Plotly) {\n",
       "                    window.PLOTLYENV=window.PLOTLYENV || {};\n",
       "                    window.PLOTLYENV.BASE_URL='https://plot.ly';\n",
       "                    \n",
       "                if (document.getElementById(\"74826898-7354-4efe-9071-e1565b9c7658\")) {\n",
       "                    Plotly.newPlot(\n",
       "                        '74826898-7354-4efe-9071-e1565b9c7658',\n",
       "                        [{\"name\": \"Rounds Played\", \"type\": \"bar\", \"uid\": \"ffd3be8e-434c-4d8a-b8f9-f57bfe1f7f6b\", \"x\": [\"BreakNeck\", \"Blackwalk\", \"mercedes_benz\", \"DORA\", \"n2tstar\", \"coldoxygen\", \"Giken\", \"KoreaNo1\", \"undor\", \"Fordune\", \"PandaTV-Tongk\", \"Benny-_-\", \"PanDaTV_Karl\", \"homeboye\", \"YUPPIEE\", \"Doomhammer\", \"DinghisKhan\", \"YoonRoot\", \"3N1GmA\", \"synthtail\", \"SevenWolf\", \"FZTEAMLDS\", \"1125\", \"BombBurst\", \"SILPHTV\", \"SexyPIG\", \"TOP_94\", \"zeggi\", \"baoli6666666\", \"Toadoo1\"], \"y\": [17, 33, 5, 8, 6, 16, 142, 19, 44, 8, 116, 335, 87, 72, 23, 3, 165, 65, 16, 45, 55, 45, 9, 14, 277, 265, 77, 52, 56, 22]}, {\"name\": \"Wins\", \"type\": \"bar\", \"uid\": \"4562e625-0141-4ff0-92ed-7fd13329bc04\", \"x\": [\"BreakNeck\", \"Blackwalk\", \"mercedes_benz\", \"DORA\", \"n2tstar\", \"coldoxygen\", \"Giken\", \"KoreaNo1\", \"undor\", \"Fordune\", \"PandaTV-Tongk\", \"Benny-_-\", \"PanDaTV_Karl\", \"homeboye\", \"YUPPIEE\", \"Doomhammer\", \"DinghisKhan\", \"YoonRoot\", \"3N1GmA\", \"synthtail\", \"SevenWolf\", \"FZTEAMLDS\", \"1125\", \"BombBurst\", \"SILPHTV\", \"SexyPIG\", \"TOP_94\", \"zeggi\", \"baoli6666666\", \"Toadoo1\"], \"y\": [3, 6, 0, 4, 2, 5, 12, 5, 6, 2, 7, 4, 9, 4, 3, 1, 38, 12, 6, 2, 7, 4, 3, 2, 48, 63, 4, 3, 3, 2]}],\n",
       "                        {\"barmode\": \"group\"},\n",
       "                        {\"showLink\": false, \"linkText\": \"Export to plot.ly\", \"plotlyServerURL\": \"https://plot.ly\", \"responsive\": true}\n",
       "                    ).then(function(){\n",
       "                            \n",
       "var gd = document.getElementById('74826898-7354-4efe-9071-e1565b9c7658');\n",
       "var x = new MutationObserver(function (mutations, observer) {{\n",
       "        var display = window.getComputedStyle(gd).display;\n",
       "        if (!display || display === 'none') {{\n",
       "            console.log([gd, 'removed!']);\n",
       "            Plotly.purge(gd);\n",
       "            observer.disconnect();\n",
       "        }}\n",
       "}});\n",
       "\n",
       "// Listen for the removal of the full notebook cells\n",
       "var notebookContainer = gd.closest('#notebook-container');\n",
       "if (notebookContainer) {{\n",
       "    x.observe(notebookContainer, {childList: true});\n",
       "}}\n",
       "\n",
       "// Listen for the clearing of the current output cell\n",
       "var outputEl = gd.closest('.output');\n",
       "if (outputEl) {{\n",
       "    x.observe(outputEl, {childList: true});\n",
       "}}\n",
       "\n",
       "                        })\n",
       "                };\n",
       "                });\n",
       "            </script>\n",
       "        </div>"
      ]
     },
     "metadata": {},
     "output_type": "display_data"
    }
   ],
   "source": [
    "data = [trace1, trace2]\n",
    "layout = go.Layout(barmode='group')\n",
    "\n",
    "fig = go.Figure(data=data, layout=layout)\n",
    "iplot(fig, filename='grouped-bar')"
   ]
  },
  {
   "cell_type": "markdown",
   "metadata": {},
   "source": [
    "### Author:-\n",
    "\n",
    "ShubhangiDabral13..."
   ]
  }
 ],
 "metadata": {
  "kernelspec": {
   "display_name": "Python 3",
   "language": "python",
   "name": "python3"
  },
  "language_info": {
   "codemirror_mode": {
    "name": "ipython",
    "version": 3
   },
   "file_extension": ".py",
   "mimetype": "text/x-python",
   "name": "python",
   "nbconvert_exporter": "python",
   "pygments_lexer": "ipython3",
   "version": "3.7.1"
  }
 },
 "nbformat": 4,
 "nbformat_minor": 2
}
